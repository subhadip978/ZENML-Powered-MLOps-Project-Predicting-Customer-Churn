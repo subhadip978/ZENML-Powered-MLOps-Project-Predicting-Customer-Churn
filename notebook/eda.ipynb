{
 "cells": [
  {
   "cell_type": "markdown",
   "metadata": {},
   "source": [
    "The Olist store is an e-commerce business headquartered in Sao Paulo, Brazil. This firm acts as a single point of contact between various small businesses and the customers who wish to buy their products. \n",
    "\n",
    "Objectve --\n",
    "When we shop online, we often read reviews to help decide what to buy. These reviews are written by other customers who have already bought the product. Olist can use these reviews to make their store better. \n",
    "We try to determine the overall satisfaction of the customer with the product which he or she had just purchased. We can convert this aspect into a binary classification problem by treating the 4 and 5-star ratings as the positive class and the rest as the negative class."
   ]
  },
  {
   "cell_type": "code",
   "execution_count": 19,
   "metadata": {},
   "outputs": [
    {
     "data": {
      "text/html": [
       "<div>\n",
       "<style scoped>\n",
       "    .dataframe tbody tr th:only-of-type {\n",
       "        vertical-align: middle;\n",
       "    }\n",
       "\n",
       "    .dataframe tbody tr th {\n",
       "        vertical-align: top;\n",
       "    }\n",
       "\n",
       "    .dataframe thead th {\n",
       "        text-align: right;\n",
       "    }\n",
       "</style>\n",
       "<table border=\"1\" class=\"dataframe\">\n",
       "  <thead>\n",
       "    <tr style=\"text-align: right;\">\n",
       "      <th></th>\n",
       "      <th>order_id</th>\n",
       "      <th>customer_id</th>\n",
       "      <th>order_status</th>\n",
       "      <th>order_purchase_timestamp</th>\n",
       "      <th>order_approved_at</th>\n",
       "      <th>order_delivered_carrier_date</th>\n",
       "      <th>order_delivered_customer_date</th>\n",
       "      <th>order_estimated_delivery_date</th>\n",
       "      <th>payment_sequential</th>\n",
       "      <th>payment_type</th>\n",
       "      <th>...</th>\n",
       "      <th>product_name_lenght</th>\n",
       "      <th>product_description_lenght</th>\n",
       "      <th>product_photos_qty</th>\n",
       "      <th>product_weight_g</th>\n",
       "      <th>product_length_cm</th>\n",
       "      <th>product_height_cm</th>\n",
       "      <th>product_width_cm</th>\n",
       "      <th>product_category_name_english</th>\n",
       "      <th>review_score</th>\n",
       "      <th>review_comment_message</th>\n",
       "    </tr>\n",
       "  </thead>\n",
       "  <tbody>\n",
       "    <tr>\n",
       "      <th>0</th>\n",
       "      <td>e481f51cbdc54678b7cc49136f2d6af7</td>\n",
       "      <td>9ef432eb6251297304e76186b10a928d</td>\n",
       "      <td>delivered</td>\n",
       "      <td>2017-10-02 10:56:33</td>\n",
       "      <td>2017-10-02 11:07:15</td>\n",
       "      <td>2017-10-04 19:55:00</td>\n",
       "      <td>2017-10-10 21:25:13</td>\n",
       "      <td>2017-10-18 00:00:00</td>\n",
       "      <td>1</td>\n",
       "      <td>credit_card</td>\n",
       "      <td>...</td>\n",
       "      <td>40.0</td>\n",
       "      <td>268.0</td>\n",
       "      <td>4.0</td>\n",
       "      <td>500.0</td>\n",
       "      <td>19.0</td>\n",
       "      <td>8.0</td>\n",
       "      <td>13.0</td>\n",
       "      <td>housewares</td>\n",
       "      <td>4</td>\n",
       "      <td>Não testei o produto ainda, mas ele veio corre...</td>\n",
       "    </tr>\n",
       "    <tr>\n",
       "      <th>1</th>\n",
       "      <td>e481f51cbdc54678b7cc49136f2d6af7</td>\n",
       "      <td>9ef432eb6251297304e76186b10a928d</td>\n",
       "      <td>delivered</td>\n",
       "      <td>2017-10-02 10:56:33</td>\n",
       "      <td>2017-10-02 11:07:15</td>\n",
       "      <td>2017-10-04 19:55:00</td>\n",
       "      <td>2017-10-10 21:25:13</td>\n",
       "      <td>2017-10-18 00:00:00</td>\n",
       "      <td>3</td>\n",
       "      <td>voucher</td>\n",
       "      <td>...</td>\n",
       "      <td>40.0</td>\n",
       "      <td>268.0</td>\n",
       "      <td>4.0</td>\n",
       "      <td>500.0</td>\n",
       "      <td>19.0</td>\n",
       "      <td>8.0</td>\n",
       "      <td>13.0</td>\n",
       "      <td>housewares</td>\n",
       "      <td>4</td>\n",
       "      <td>Não testei o produto ainda, mas ele veio corre...</td>\n",
       "    </tr>\n",
       "    <tr>\n",
       "      <th>2</th>\n",
       "      <td>e481f51cbdc54678b7cc49136f2d6af7</td>\n",
       "      <td>9ef432eb6251297304e76186b10a928d</td>\n",
       "      <td>delivered</td>\n",
       "      <td>2017-10-02 10:56:33</td>\n",
       "      <td>2017-10-02 11:07:15</td>\n",
       "      <td>2017-10-04 19:55:00</td>\n",
       "      <td>2017-10-10 21:25:13</td>\n",
       "      <td>2017-10-18 00:00:00</td>\n",
       "      <td>2</td>\n",
       "      <td>voucher</td>\n",
       "      <td>...</td>\n",
       "      <td>40.0</td>\n",
       "      <td>268.0</td>\n",
       "      <td>4.0</td>\n",
       "      <td>500.0</td>\n",
       "      <td>19.0</td>\n",
       "      <td>8.0</td>\n",
       "      <td>13.0</td>\n",
       "      <td>housewares</td>\n",
       "      <td>4</td>\n",
       "      <td>Não testei o produto ainda, mas ele veio corre...</td>\n",
       "    </tr>\n",
       "    <tr>\n",
       "      <th>3</th>\n",
       "      <td>128e10d95713541c87cd1a2e48201934</td>\n",
       "      <td>a20e8105f23924cd00833fd87daa0831</td>\n",
       "      <td>delivered</td>\n",
       "      <td>2017-08-15 18:29:31</td>\n",
       "      <td>2017-08-15 20:05:16</td>\n",
       "      <td>2017-08-17 15:28:33</td>\n",
       "      <td>2017-08-18 14:44:43</td>\n",
       "      <td>2017-08-28 00:00:00</td>\n",
       "      <td>1</td>\n",
       "      <td>credit_card</td>\n",
       "      <td>...</td>\n",
       "      <td>40.0</td>\n",
       "      <td>268.0</td>\n",
       "      <td>4.0</td>\n",
       "      <td>500.0</td>\n",
       "      <td>19.0</td>\n",
       "      <td>8.0</td>\n",
       "      <td>13.0</td>\n",
       "      <td>housewares</td>\n",
       "      <td>4</td>\n",
       "      <td>Deveriam embalar melhor o produto. A caixa vei...</td>\n",
       "    </tr>\n",
       "    <tr>\n",
       "      <th>4</th>\n",
       "      <td>0e7e841ddf8f8f2de2bad69267ecfbcf</td>\n",
       "      <td>26c7ac168e1433912a51b924fbd34d34</td>\n",
       "      <td>delivered</td>\n",
       "      <td>2017-08-02 18:24:47</td>\n",
       "      <td>2017-08-02 18:43:15</td>\n",
       "      <td>2017-08-04 17:35:43</td>\n",
       "      <td>2017-08-07 18:30:01</td>\n",
       "      <td>2017-08-15 00:00:00</td>\n",
       "      <td>1</td>\n",
       "      <td>credit_card</td>\n",
       "      <td>...</td>\n",
       "      <td>40.0</td>\n",
       "      <td>268.0</td>\n",
       "      <td>4.0</td>\n",
       "      <td>500.0</td>\n",
       "      <td>19.0</td>\n",
       "      <td>8.0</td>\n",
       "      <td>13.0</td>\n",
       "      <td>housewares</td>\n",
       "      <td>5</td>\n",
       "      <td>Só achei ela pequena pra seis xícaras ,mais é ...</td>\n",
       "    </tr>\n",
       "  </tbody>\n",
       "</table>\n",
       "<p>5 rows × 33 columns</p>\n",
       "</div>"
      ],
      "text/plain": [
       "                           order_id                       customer_id  \\\n",
       "0  e481f51cbdc54678b7cc49136f2d6af7  9ef432eb6251297304e76186b10a928d   \n",
       "1  e481f51cbdc54678b7cc49136f2d6af7  9ef432eb6251297304e76186b10a928d   \n",
       "2  e481f51cbdc54678b7cc49136f2d6af7  9ef432eb6251297304e76186b10a928d   \n",
       "3  128e10d95713541c87cd1a2e48201934  a20e8105f23924cd00833fd87daa0831   \n",
       "4  0e7e841ddf8f8f2de2bad69267ecfbcf  26c7ac168e1433912a51b924fbd34d34   \n",
       "\n",
       "  order_status order_purchase_timestamp    order_approved_at  \\\n",
       "0    delivered      2017-10-02 10:56:33  2017-10-02 11:07:15   \n",
       "1    delivered      2017-10-02 10:56:33  2017-10-02 11:07:15   \n",
       "2    delivered      2017-10-02 10:56:33  2017-10-02 11:07:15   \n",
       "3    delivered      2017-08-15 18:29:31  2017-08-15 20:05:16   \n",
       "4    delivered      2017-08-02 18:24:47  2017-08-02 18:43:15   \n",
       "\n",
       "  order_delivered_carrier_date order_delivered_customer_date  \\\n",
       "0          2017-10-04 19:55:00           2017-10-10 21:25:13   \n",
       "1          2017-10-04 19:55:00           2017-10-10 21:25:13   \n",
       "2          2017-10-04 19:55:00           2017-10-10 21:25:13   \n",
       "3          2017-08-17 15:28:33           2017-08-18 14:44:43   \n",
       "4          2017-08-04 17:35:43           2017-08-07 18:30:01   \n",
       "\n",
       "  order_estimated_delivery_date  payment_sequential payment_type  ...  \\\n",
       "0           2017-10-18 00:00:00                   1  credit_card  ...   \n",
       "1           2017-10-18 00:00:00                   3      voucher  ...   \n",
       "2           2017-10-18 00:00:00                   2      voucher  ...   \n",
       "3           2017-08-28 00:00:00                   1  credit_card  ...   \n",
       "4           2017-08-15 00:00:00                   1  credit_card  ...   \n",
       "\n",
       "   product_name_lenght  product_description_lenght product_photos_qty  \\\n",
       "0                 40.0                       268.0                4.0   \n",
       "1                 40.0                       268.0                4.0   \n",
       "2                 40.0                       268.0                4.0   \n",
       "3                 40.0                       268.0                4.0   \n",
       "4                 40.0                       268.0                4.0   \n",
       "\n",
       "   product_weight_g product_length_cm product_height_cm  product_width_cm  \\\n",
       "0             500.0              19.0               8.0              13.0   \n",
       "1             500.0              19.0               8.0              13.0   \n",
       "2             500.0              19.0               8.0              13.0   \n",
       "3             500.0              19.0               8.0              13.0   \n",
       "4             500.0              19.0               8.0              13.0   \n",
       "\n",
       "  product_category_name_english review_score  \\\n",
       "0                    housewares            4   \n",
       "1                    housewares            4   \n",
       "2                    housewares            4   \n",
       "3                    housewares            4   \n",
       "4                    housewares            5   \n",
       "\n",
       "                              review_comment_message  \n",
       "0  Não testei o produto ainda, mas ele veio corre...  \n",
       "1  Não testei o produto ainda, mas ele veio corre...  \n",
       "2  Não testei o produto ainda, mas ele veio corre...  \n",
       "3  Deveriam embalar melhor o produto. A caixa vei...  \n",
       "4  Só achei ela pequena pra seis xícaras ,mais é ...  \n",
       "\n",
       "[5 rows x 33 columns]"
      ]
     },
     "execution_count": 19,
     "metadata": {},
     "output_type": "execute_result"
    }
   ],
   "source": [
    "import pandas as pd\n",
    "import numpy as np\n",
    "df=pd.read_csv(\"../data/olist_customers_dataset.csv\")\n",
    "df.head(5)\n"
   ]
  },
  {
   "cell_type": "code",
   "execution_count": 20,
   "metadata": {},
   "outputs": [
    {
     "data": {
      "text/plain": [
       "order_id                          object\n",
       "customer_id                       object\n",
       "order_status                      object\n",
       "order_purchase_timestamp          object\n",
       "order_approved_at                 object\n",
       "order_delivered_carrier_date      object\n",
       "order_delivered_customer_date     object\n",
       "order_estimated_delivery_date     object\n",
       "payment_sequential                 int64\n",
       "payment_type                      object\n",
       "payment_installments               int64\n",
       "payment_value                    float64\n",
       "customer_unique_id                object\n",
       "customer_zip_code_prefix           int64\n",
       "customer_city                     object\n",
       "customer_state                    object\n",
       "order_item_id                      int64\n",
       "product_id                        object\n",
       "seller_id                         object\n",
       "shipping_limit_date               object\n",
       "price                            float64\n",
       "freight_value                    float64\n",
       "product_category_name             object\n",
       "product_name_lenght              float64\n",
       "product_description_lenght       float64\n",
       "product_photos_qty               float64\n",
       "product_weight_g                 float64\n",
       "product_length_cm                float64\n",
       "product_height_cm                float64\n",
       "product_width_cm                 float64\n",
       "product_category_name_english     object\n",
       "review_score                       int64\n",
       "review_comment_message            object\n",
       "dtype: object"
      ]
     },
     "execution_count": 20,
     "metadata": {},
     "output_type": "execute_result"
    }
   ],
   "source": [
    "df.dtypes"
   ]
  },
  {
   "cell_type": "code",
   "execution_count": 21,
   "metadata": {},
   "outputs": [
    {
     "data": {
      "text/plain": [
       "(115609, 33)"
      ]
     },
     "execution_count": 21,
     "metadata": {},
     "output_type": "execute_result"
    }
   ],
   "source": [
    "df.shape"
   ]
  },
  {
   "cell_type": "code",
   "execution_count": 4,
   "metadata": {},
   "outputs": [
    {
     "data": {
      "text/plain": [
       "Index(['order_id', 'customer_id', 'order_status', 'order_purchase_timestamp',\n",
       "       'order_approved_at', 'order_delivered_carrier_date',\n",
       "       'order_delivered_customer_date', 'order_estimated_delivery_date',\n",
       "       'payment_sequential', 'payment_type', 'payment_installments',\n",
       "       'payment_value', 'customer_unique_id', 'customer_zip_code_prefix',\n",
       "       'customer_city', 'customer_state', 'order_item_id', 'product_id',\n",
       "       'seller_id', 'shipping_limit_date', 'price', 'freight_value',\n",
       "       'product_category_name', 'product_name_lenght',\n",
       "       'product_description_lenght', 'product_photos_qty', 'product_weight_g',\n",
       "       'product_length_cm', 'product_height_cm', 'product_width_cm',\n",
       "       'product_category_name_english', 'review_score',\n",
       "       'review_comment_message'],\n",
       "      dtype='object')"
      ]
     },
     "execution_count": 4,
     "metadata": {},
     "output_type": "execute_result"
    }
   ],
   "source": [
    "df.columns"
   ]
  },
  {
   "cell_type": "code",
   "execution_count": 22,
   "metadata": {},
   "outputs": [
    {
     "name": "stdout",
     "output_type": "stream",
     "text": [
      "order_approved_at                   14\n",
      "order_delivered_carrier_date      1195\n",
      "order_delivered_customer_date     2400\n",
      "product_weight_g                     1\n",
      "product_length_cm                    1\n",
      "product_height_cm                    1\n",
      "product_width_cm                     1\n",
      "review_comment_message           66703\n",
      "dtype: int64\n"
     ]
    }
   ],
   "source": [
    "# 1. Missing data\n",
    "# Identifying how many datas are missing\n",
    "null_values=df.isnull().sum()\n",
    "print(null_values[null_values>0])"
   ]
  },
  {
   "cell_type": "markdown",
   "metadata": {},
   "source": [
    "Dropping all the duplicates which have the same Order ID, Customer ID, purchase timestamp, review message. This is becasue a customer cannot post the same review multiple times for the same product at the same instant of time."
   ]
  },
  {
   "cell_type": "code",
   "execution_count": 23,
   "metadata": {},
   "outputs": [
    {
     "data": {
      "text/plain": [
       "(100402, 33)"
      ]
     },
     "execution_count": 23,
     "metadata": {},
     "output_type": "execute_result"
    }
   ],
   "source": [
    "df = df.drop_duplicates(subset=['order_id','order_purchase_timestamp','product_id','customer_id','review_comment_message'])\n",
    "df.shape"
   ]
  },
  {
   "cell_type": "markdown",
   "metadata": {},
   "source": [
    "All the ID values are unique. We are dropping these columns since they don't contribute much to understanding the data. We also cannot work with"
   ]
  },
  {
   "cell_type": "code",
   "execution_count": 24,
   "metadata": {},
   "outputs": [
    {
     "data": {
      "text/plain": [
       "(100402, 29)"
      ]
     },
     "execution_count": 24,
     "metadata": {},
     "output_type": "execute_result"
    }
   ],
   "source": [
    "df.drop(['order_id','product_id','seller_id','customer_unique_id'], axis=1, inplace=True)\n",
    "df.shape"
   ]
  },
  {
   "cell_type": "code",
   "execution_count": 25,
   "metadata": {},
   "outputs": [],
   "source": [
    "df.dropna(subset=['shipping_limit_date','order_purchase_timestamp','order_delivered_carrier_date','order_delivered_customer_date','order_estimated_delivery_date'], inplace=True)"
   ]
  },
  {
   "cell_type": "markdown",
   "metadata": {},
   "source": [
    "The 'purchase delivery difference' gives us the number of days between the time of purchase and delivery. The 'estimated actual delivery difference' gives us the delay or the cut-down in the number of days actually required for the delivery."
   ]
  },
  {
   "cell_type": "code",
   "execution_count": 26,
   "metadata": {},
   "outputs": [],
   "source": [
    "from datetime import datetime\n",
    "intermediate_time = df['order_delivered_customer_date'].apply(lambda x: datetime.strptime(x, \"%Y-%m-%d %H:%M:%S\").date()) - df['order_purchase_timestamp'].apply(lambda x: datetime.strptime(x, \"%Y-%m-%d %H:%M:%S\").date())\n",
    "df['purchase_delivery_difference'] = intermediate_time.apply(lambda x:x.days)\n",
    "\n",
    "intermediate_time = df['order_estimated_delivery_date'].apply(lambda x: datetime.strptime(x, \"%Y-%m-%d %H:%M:%S\").date()) - df['order_delivered_customer_date'].apply(lambda x: datetime.strptime(x, \"%Y-%m-%d %H:%M:%S\").date())\n",
    "df['estimated_actual_delivery_difference'] = intermediate_time.apply(lambda x:x.days)"
   ]
  },
  {
   "cell_type": "code",
   "execution_count": 27,
   "metadata": {},
   "outputs": [
    {
     "data": {
      "text/plain": [
       "customer_id                                 0\n",
       "order_status                                0\n",
       "order_purchase_timestamp                    0\n",
       "order_approved_at                          13\n",
       "order_delivered_carrier_date                0\n",
       "order_delivered_customer_date               0\n",
       "order_estimated_delivery_date               0\n",
       "payment_sequential                          0\n",
       "payment_type                                0\n",
       "payment_installments                        0\n",
       "payment_value                               0\n",
       "customer_zip_code_prefix                    0\n",
       "customer_city                               0\n",
       "customer_state                              0\n",
       "order_item_id                               0\n",
       "shipping_limit_date                         0\n",
       "price                                       0\n",
       "freight_value                               0\n",
       "product_category_name                       0\n",
       "product_name_lenght                         0\n",
       "product_description_lenght                  0\n",
       "product_photos_qty                          0\n",
       "product_weight_g                            1\n",
       "product_length_cm                           1\n",
       "product_height_cm                           1\n",
       "product_width_cm                            1\n",
       "product_category_name_english               0\n",
       "review_score                                0\n",
       "review_comment_message                  57771\n",
       "purchase_delivery_difference                0\n",
       "estimated_actual_delivery_difference        0\n",
       "dtype: int64"
      ]
     },
     "execution_count": 27,
     "metadata": {},
     "output_type": "execute_result"
    }
   ],
   "source": [
    "df.isnull().sum()\n"
   ]
  },
  {
   "cell_type": "markdown",
   "metadata": {},
   "source": [
    "Values that are rated more than 3 are labelled as positive and those whose values are 3 or below are labelled as negative."
   ]
  },
  {
   "cell_type": "code",
   "execution_count": 28,
   "metadata": {},
   "outputs": [
    {
     "data": {
      "text/plain": [
       "0         1\n",
       "3         1\n",
       "4         1\n",
       "5         0\n",
       "6         0\n",
       "         ..\n",
       "115604    1\n",
       "115605    0\n",
       "115606    0\n",
       "115607    1\n",
       "115608    0\n",
       "Name: review_score, Length: 98325, dtype: int64"
      ]
     },
     "execution_count": 28,
     "metadata": {},
     "output_type": "execute_result"
    }
   ],
   "source": [
    "df['review_score']=df['review_score'].apply(lambda x: 1 if x>3 else 0)\n",
    "df['review_score']"
   ]
  },
  {
   "cell_type": "code",
   "execution_count": 29,
   "metadata": {},
   "outputs": [
    {
     "data": {
      "text/plain": [
       "order_status\n",
       "delivered    98318\n",
       "canceled         7\n",
       "Name: count, dtype: int64"
      ]
     },
     "execution_count": 29,
     "metadata": {},
     "output_type": "execute_result"
    }
   ],
   "source": [
    "df['order_status'].value_counts()"
   ]
  },
  {
   "cell_type": "markdown",
   "metadata": {},
   "source": [
    "It doesn't make sense to analyze those products which have been cancelled. Thus, we shall delete them"
   ]
  },
  {
   "cell_type": "code",
   "execution_count": 30,
   "metadata": {},
   "outputs": [],
   "source": [
    "df = df[df['order_status'] != 'canceled']"
   ]
  },
  {
   "cell_type": "markdown",
   "metadata": {},
   "source": []
  },
  {
   "cell_type": "code",
   "execution_count": null,
   "metadata": {},
   "outputs": [],
   "source": [
    "df.drop(['shipping_limit_date','order_purchase_timestamp','order_approved_at','order_delivered_carrier_date','order_delivered_customer_date','order_estimated_delivery_date','customer_id'], axis=1, inplace=True)"
   ]
  },
  {
   "cell_type": "markdown",
   "metadata": {},
   "source": [
    "We shall encode the categorical features which contain fewer categories using either ordinal or one hot encoding"
   ]
  },
  {
   "cell_type": "code",
   "execution_count": 31,
   "metadata": {},
   "outputs": [
    {
     "data": {
      "text/plain": [
       "review_comment_message\n",
       "Muito bom                                                                                                                                                                                                   230\n",
       "Bom                                                                                                                                                                                                         192\n",
       "muito bom                                                                                                                                                                                                   124\n",
       "bom                                                                                                                                                                                                         104\n",
       "Otimo                                                                                                                                                                                                       101\n",
       "                                                                                                                                                                                                           ... \n",
       "o cartucho não funciona na minha impressora hp, o chip do cartucho não é do mesmo tamanho dos cartuchos que servem para essa impressora, não e´compativel com hp 4280 , não é cartucho h 60 xl\\r\\n            1\n",
       "Gostei chegou antes do prazo.                                                                                                                                                                                 1\n",
       "Chegou no prazo e chegou sem defeitos                                                                                                                                                                         1\n",
       "Excelente obrigado chegou antes do prazo tudo perfeito.funcionando maravilhosamente.abracos.                                                                                                                  1\n",
       "boa tarde produto enviado errado, terei que me deslocar aos correios pois moro em um condomínio tive receber, e ainda irei esperar chegar para so depois eu receber o produto correto, paguei via boleto      1\n",
       "Name: count, Length: 33950, dtype: int64"
      ]
     },
     "execution_count": 31,
     "metadata": {},
     "output_type": "execute_result"
    }
   ],
   "source": [
    "df['review_comment_message'].value_counts()"
   ]
  },
  {
   "cell_type": "code",
   "execution_count": 32,
   "metadata": {},
   "outputs": [
    {
     "data": {
      "text/plain": [
       "0         1\n",
       "3         1\n",
       "4         1\n",
       "5         1\n",
       "6         1\n",
       "         ..\n",
       "115604    1\n",
       "115605    1\n",
       "115606    1\n",
       "115607    1\n",
       "115608    1\n",
       "Name: review_availability, Length: 98318, dtype: int64"
      ]
     },
     "execution_count": 32,
     "metadata": {},
     "output_type": "execute_result"
    }
   ],
   "source": [
    "df['review_availability'] = df['review_comment_message'].apply(lambda x: 1 if x != 'indisponível' else 0)\n",
    "df['review_availability']"
   ]
  },
  {
   "cell_type": "code",
   "execution_count": null,
   "metadata": {},
   "outputs": [],
   "source": [
    "X = df.drop(columns=['review_score'], axis=1)\n",
    "Y=(df[\"review_score\"])"
   ]
  },
  {
   "cell_type": "code",
   "execution_count": 17,
   "metadata": {},
   "outputs": [
    {
     "data": {
      "text/plain": [
       "0         2017-10-02 10:56:33\n",
       "3         2017-08-15 18:29:31\n",
       "4         2017-08-02 18:24:47\n",
       "5         2017-10-23 23:26:46\n",
       "6         2017-11-24 21:27:48\n",
       "                 ...         \n",
       "115604    2018-08-03 21:35:53\n",
       "115605    2018-07-23 18:35:14\n",
       "115606    2018-07-23 18:35:14\n",
       "115607    2017-01-26 11:09:00\n",
       "115608    2017-09-17 16:51:43\n",
       "Name: order_purchase_timestamp, Length: 98318, dtype: object"
      ]
     },
     "execution_count": 17,
     "metadata": {},
     "output_type": "execute_result"
    }
   ],
   "source": [
    "df['order_purchase_timestamp']"
   ]
  },
  {
   "cell_type": "code",
   "execution_count": 18,
   "metadata": {},
   "outputs": [
    {
     "data": {
      "text/plain": [
       "0          8\n",
       "3          2\n",
       "4          5\n",
       "5         14\n",
       "6         33\n",
       "          ..\n",
       "115604     6\n",
       "115605     3\n",
       "115606     3\n",
       "115607    19\n",
       "115608    11\n",
       "Name: delivery_duration, Length: 98318, dtype: int64"
      ]
     },
     "execution_count": 18,
     "metadata": {},
     "output_type": "execute_result"
    }
   ],
   "source": [
    "df['order_purchase_timestamp'] = pd.to_datetime(df['order_purchase_timestamp'])\n",
    "df['order_delivered_customer_date'] = pd.to_datetime(df['order_delivered_customer_date'])\n",
    "df['delivery_duration'] = (df['order_delivered_customer_date'] - df['order_purchase_timestamp']).dt.days\n",
    "df['delivery_duration']\n"
   ]
  },
  {
   "cell_type": "code",
   "execution_count": 11,
   "metadata": {},
   "outputs": [
    {
     "data": {
      "text/plain": [
       "(115609, 23)"
      ]
     },
     "execution_count": 11,
     "metadata": {},
     "output_type": "execute_result"
    }
   ],
   "source": [
    "\n",
    "less_important_columns = [\n",
    "    'order_id', 'customer_zip_code_prefix', 'order_status', \n",
    "    'order_purchase_timestamp', 'order_approved_at', \n",
    "    'order_delivered_carrier_date', 'order_delivered_customer_date', \n",
    "    'order_estimated_delivery_date', 'product_name_lenght', \n",
    "    'product_description_lenght', 'product_photos_qty', \n",
    "    \n",
    "]\n",
    "\n",
    "df=df.drop(columns=less_important_columns)\n",
    "df.shape"
   ]
  },
  {
   "cell_type": "code",
   "execution_count": 10,
   "metadata": {},
   "outputs": [
    {
     "data": {
      "text/html": [
       "<div>\n",
       "<style scoped>\n",
       "    .dataframe tbody tr th:only-of-type {\n",
       "        vertical-align: middle;\n",
       "    }\n",
       "\n",
       "    .dataframe tbody tr th {\n",
       "        vertical-align: top;\n",
       "    }\n",
       "\n",
       "    .dataframe thead th {\n",
       "        text-align: right;\n",
       "    }\n",
       "</style>\n",
       "<table border=\"1\" class=\"dataframe\">\n",
       "  <thead>\n",
       "    <tr style=\"text-align: right;\">\n",
       "      <th></th>\n",
       "      <th>payment_sequential</th>\n",
       "      <th>payment_installments</th>\n",
       "      <th>payment_value</th>\n",
       "      <th>order_item_id</th>\n",
       "      <th>price</th>\n",
       "      <th>freight_value</th>\n",
       "      <th>product_weight_g</th>\n",
       "      <th>product_length_cm</th>\n",
       "      <th>product_height_cm</th>\n",
       "      <th>product_width_cm</th>\n",
       "      <th>review_score</th>\n",
       "    </tr>\n",
       "  </thead>\n",
       "  <tbody>\n",
       "    <tr>\n",
       "      <th>0</th>\n",
       "      <td>1</td>\n",
       "      <td>1</td>\n",
       "      <td>18.12</td>\n",
       "      <td>1</td>\n",
       "      <td>29.99</td>\n",
       "      <td>8.72</td>\n",
       "      <td>500.0</td>\n",
       "      <td>19.0</td>\n",
       "      <td>8.0</td>\n",
       "      <td>13.0</td>\n",
       "      <td>4</td>\n",
       "    </tr>\n",
       "    <tr>\n",
       "      <th>1</th>\n",
       "      <td>3</td>\n",
       "      <td>1</td>\n",
       "      <td>2.00</td>\n",
       "      <td>1</td>\n",
       "      <td>29.99</td>\n",
       "      <td>8.72</td>\n",
       "      <td>500.0</td>\n",
       "      <td>19.0</td>\n",
       "      <td>8.0</td>\n",
       "      <td>13.0</td>\n",
       "      <td>4</td>\n",
       "    </tr>\n",
       "    <tr>\n",
       "      <th>2</th>\n",
       "      <td>2</td>\n",
       "      <td>1</td>\n",
       "      <td>18.59</td>\n",
       "      <td>1</td>\n",
       "      <td>29.99</td>\n",
       "      <td>8.72</td>\n",
       "      <td>500.0</td>\n",
       "      <td>19.0</td>\n",
       "      <td>8.0</td>\n",
       "      <td>13.0</td>\n",
       "      <td>4</td>\n",
       "    </tr>\n",
       "    <tr>\n",
       "      <th>3</th>\n",
       "      <td>1</td>\n",
       "      <td>3</td>\n",
       "      <td>37.77</td>\n",
       "      <td>1</td>\n",
       "      <td>29.99</td>\n",
       "      <td>7.78</td>\n",
       "      <td>500.0</td>\n",
       "      <td>19.0</td>\n",
       "      <td>8.0</td>\n",
       "      <td>13.0</td>\n",
       "      <td>4</td>\n",
       "    </tr>\n",
       "    <tr>\n",
       "      <th>4</th>\n",
       "      <td>1</td>\n",
       "      <td>1</td>\n",
       "      <td>37.77</td>\n",
       "      <td>1</td>\n",
       "      <td>29.99</td>\n",
       "      <td>7.78</td>\n",
       "      <td>500.0</td>\n",
       "      <td>19.0</td>\n",
       "      <td>8.0</td>\n",
       "      <td>13.0</td>\n",
       "      <td>5</td>\n",
       "    </tr>\n",
       "    <tr>\n",
       "      <th>...</th>\n",
       "      <td>...</td>\n",
       "      <td>...</td>\n",
       "      <td>...</td>\n",
       "      <td>...</td>\n",
       "      <td>...</td>\n",
       "      <td>...</td>\n",
       "      <td>...</td>\n",
       "      <td>...</td>\n",
       "      <td>...</td>\n",
       "      <td>...</td>\n",
       "      <td>...</td>\n",
       "    </tr>\n",
       "    <tr>\n",
       "      <th>115604</th>\n",
       "      <td>1</td>\n",
       "      <td>1</td>\n",
       "      <td>33.69</td>\n",
       "      <td>1</td>\n",
       "      <td>25.00</td>\n",
       "      <td>8.69</td>\n",
       "      <td>350.0</td>\n",
       "      <td>32.0</td>\n",
       "      <td>2.0</td>\n",
       "      <td>28.0</td>\n",
       "      <td>5</td>\n",
       "    </tr>\n",
       "    <tr>\n",
       "      <th>115605</th>\n",
       "      <td>1</td>\n",
       "      <td>1</td>\n",
       "      <td>84.63</td>\n",
       "      <td>1</td>\n",
       "      <td>19.00</td>\n",
       "      <td>12.86</td>\n",
       "      <td>500.0</td>\n",
       "      <td>16.0</td>\n",
       "      <td>6.0</td>\n",
       "      <td>16.0</td>\n",
       "      <td>3</td>\n",
       "    </tr>\n",
       "    <tr>\n",
       "      <th>115606</th>\n",
       "      <td>1</td>\n",
       "      <td>1</td>\n",
       "      <td>84.63</td>\n",
       "      <td>2</td>\n",
       "      <td>39.90</td>\n",
       "      <td>12.87</td>\n",
       "      <td>500.0</td>\n",
       "      <td>21.0</td>\n",
       "      <td>7.0</td>\n",
       "      <td>14.0</td>\n",
       "      <td>3</td>\n",
       "    </tr>\n",
       "    <tr>\n",
       "      <th>115607</th>\n",
       "      <td>1</td>\n",
       "      <td>1</td>\n",
       "      <td>209.06</td>\n",
       "      <td>1</td>\n",
       "      <td>183.29</td>\n",
       "      <td>25.77</td>\n",
       "      <td>1225.0</td>\n",
       "      <td>27.0</td>\n",
       "      <td>35.0</td>\n",
       "      <td>15.0</td>\n",
       "      <td>4</td>\n",
       "    </tr>\n",
       "    <tr>\n",
       "      <th>115608</th>\n",
       "      <td>1</td>\n",
       "      <td>1</td>\n",
       "      <td>115.45</td>\n",
       "      <td>1</td>\n",
       "      <td>100.00</td>\n",
       "      <td>15.45</td>\n",
       "      <td>400.0</td>\n",
       "      <td>26.0</td>\n",
       "      <td>22.0</td>\n",
       "      <td>11.0</td>\n",
       "      <td>1</td>\n",
       "    </tr>\n",
       "  </tbody>\n",
       "</table>\n",
       "<p>115609 rows × 11 columns</p>\n",
       "</div>"
      ],
      "text/plain": [
       "        payment_sequential  payment_installments  payment_value  \\\n",
       "0                        1                     1          18.12   \n",
       "1                        3                     1           2.00   \n",
       "2                        2                     1          18.59   \n",
       "3                        1                     3          37.77   \n",
       "4                        1                     1          37.77   \n",
       "...                    ...                   ...            ...   \n",
       "115604                   1                     1          33.69   \n",
       "115605                   1                     1          84.63   \n",
       "115606                   1                     1          84.63   \n",
       "115607                   1                     1         209.06   \n",
       "115608                   1                     1         115.45   \n",
       "\n",
       "        order_item_id   price  freight_value  product_weight_g  \\\n",
       "0                   1   29.99           8.72             500.0   \n",
       "1                   1   29.99           8.72             500.0   \n",
       "2                   1   29.99           8.72             500.0   \n",
       "3                   1   29.99           7.78             500.0   \n",
       "4                   1   29.99           7.78             500.0   \n",
       "...               ...     ...            ...               ...   \n",
       "115604              1   25.00           8.69             350.0   \n",
       "115605              1   19.00          12.86             500.0   \n",
       "115606              2   39.90          12.87             500.0   \n",
       "115607              1  183.29          25.77            1225.0   \n",
       "115608              1  100.00          15.45             400.0   \n",
       "\n",
       "        product_length_cm  product_height_cm  product_width_cm  review_score  \n",
       "0                    19.0                8.0              13.0             4  \n",
       "1                    19.0                8.0              13.0             4  \n",
       "2                    19.0                8.0              13.0             4  \n",
       "3                    19.0                8.0              13.0             4  \n",
       "4                    19.0                8.0              13.0             5  \n",
       "...                   ...                ...               ...           ...  \n",
       "115604               32.0                2.0              28.0             5  \n",
       "115605               16.0                6.0              16.0             3  \n",
       "115606               21.0                7.0              14.0             3  \n",
       "115607               27.0               35.0              15.0             4  \n",
       "115608               26.0               22.0              11.0             1  \n",
       "\n",
       "[115609 rows x 11 columns]"
      ]
     },
     "execution_count": 10,
     "metadata": {},
     "output_type": "execute_result"
    }
   ],
   "source": [
    "numeric_columns = df.select_dtypes(include=['number'])\n",
    "numeric_columns"
   ]
  },
  {
   "cell_type": "code",
   "execution_count": 4,
   "metadata": {},
   "outputs": [
    {
     "name": "stdout",
     "output_type": "stream",
     "text": [
      "0                    housewares\n",
      "1                    housewares\n",
      "2                    housewares\n",
      "3                    housewares\n",
      "4                    housewares\n",
      "                  ...          \n",
      "115604    arts_and_craftmanship\n",
      "115605    arts_and_craftmanship\n",
      "115606    arts_and_craftmanship\n",
      "115607    security_and_services\n",
      "115608    security_and_services\n",
      "Name: product_category_name_english, Length: 115609, dtype: object\n"
     ]
    }
   ],
   "source": [
    "print(df[\"product_category_name_english\"])"
   ]
  },
  {
   "cell_type": "code",
   "execution_count": 33,
   "metadata": {},
   "outputs": [
    {
     "data": {
      "text/html": [
       "<div>\n",
       "<style scoped>\n",
       "    .dataframe tbody tr th:only-of-type {\n",
       "        vertical-align: middle;\n",
       "    }\n",
       "\n",
       "    .dataframe tbody tr th {\n",
       "        vertical-align: top;\n",
       "    }\n",
       "\n",
       "    .dataframe thead th {\n",
       "        text-align: right;\n",
       "    }\n",
       "</style>\n",
       "<table border=\"1\" class=\"dataframe\">\n",
       "  <thead>\n",
       "    <tr style=\"text-align: right;\">\n",
       "      <th></th>\n",
       "      <th>product_category_name_english</th>\n",
       "      <th>count</th>\n",
       "    </tr>\n",
       "  </thead>\n",
       "  <tbody>\n",
       "    <tr>\n",
       "      <th>0</th>\n",
       "      <td>bed_bath_table</td>\n",
       "      <td>9963</td>\n",
       "    </tr>\n",
       "    <tr>\n",
       "      <th>1</th>\n",
       "      <td>health_beauty</td>\n",
       "      <td>8798</td>\n",
       "    </tr>\n",
       "    <tr>\n",
       "      <th>2</th>\n",
       "      <td>sports_leisure</td>\n",
       "      <td>7636</td>\n",
       "    </tr>\n",
       "    <tr>\n",
       "      <th>3</th>\n",
       "      <td>computers_accessories</td>\n",
       "      <td>6718</td>\n",
       "    </tr>\n",
       "    <tr>\n",
       "      <th>4</th>\n",
       "      <td>furniture_decor</td>\n",
       "      <td>6609</td>\n",
       "    </tr>\n",
       "    <tr>\n",
       "      <th>5</th>\n",
       "      <td>housewares</td>\n",
       "      <td>5848</td>\n",
       "    </tr>\n",
       "    <tr>\n",
       "      <th>6</th>\n",
       "      <td>watches_gifts</td>\n",
       "      <td>5629</td>\n",
       "    </tr>\n",
       "    <tr>\n",
       "      <th>7</th>\n",
       "      <td>telephony</td>\n",
       "      <td>4154</td>\n",
       "    </tr>\n",
       "    <tr>\n",
       "      <th>8</th>\n",
       "      <td>auto</td>\n",
       "      <td>3886</td>\n",
       "    </tr>\n",
       "    <tr>\n",
       "      <th>9</th>\n",
       "      <td>toys</td>\n",
       "      <td>3869</td>\n",
       "    </tr>\n",
       "  </tbody>\n",
       "</table>\n",
       "</div>"
      ],
      "text/plain": [
       "  product_category_name_english  count\n",
       "0                bed_bath_table   9963\n",
       "1                 health_beauty   8798\n",
       "2                sports_leisure   7636\n",
       "3         computers_accessories   6718\n",
       "4               furniture_decor   6609\n",
       "5                    housewares   5848\n",
       "6                 watches_gifts   5629\n",
       "7                     telephony   4154\n",
       "8                          auto   3886\n",
       "9                          toys   3869"
      ]
     },
     "execution_count": 33,
     "metadata": {},
     "output_type": "execute_result"
    }
   ],
   "source": [
    "category_counts = df['product_category_name_english'].value_counts()\n",
    "top_categories = category_counts.head(10).reset_index()\n",
    "\n",
    "\n",
    "top_categories.columns = ['product_category_name_english', 'count']\n",
    "top_categories"
   ]
  },
  {
   "cell_type": "code",
   "execution_count": 34,
   "metadata": {},
   "outputs": [
    {
     "data": {
      "image/png": "[encoded data removed]",
      "text/plain": [
       "<Figure size 1000x600 with 1 Axes>"
      ]
     },
     "metadata": {},
     "output_type": "display_data"
    }
   ],
   "source": [
    "import matplotlib.pyplot as plt\n",
    "import seaborn as sns\n",
    "plt.figure(figsize=(10, 6))\n",
    "sns.barplot(\n",
    "    data=top_categories, \n",
    "    y='product_category_name_english', \n",
    "    x='count', \n",
    "    palette='magma', \n",
    "    hue='product_category_name_english', \n",
    "    dodge=False, \n",
    "    legend=False\n",
    ")\n",
    "plt.title('Top 10 Most Popular Product Categories', fontsize=16)\n",
    "plt.xlabel('Count', fontsize=14)\n",
    "plt.ylabel('Top Categories', fontsize=14)\n",
    "plt.show()"
   ]
  },
  {
   "cell_type": "markdown",
   "metadata": {},
   "source": [
    "In above chart We are now finding the top 10 most popular product categories in terms of the frequency of purchase. The category ‘bed bath table’ is significantly more popular than most of the other categories. It is the only category whose sales have crossed 10000 units. \n",
    "\n",
    "the business might consider expanding this line, offering discounts,"
   ]
  },
  {
   "cell_type": "code",
   "execution_count": 18,
   "metadata": {},
   "outputs": [
    {
     "name": "stdout",
     "output_type": "stream",
     "text": [
      "0          18.12\n",
      "1           2.00\n",
      "2          18.59\n",
      "3          37.77\n",
      "4          37.77\n",
      "           ...  \n",
      "115604     33.69\n",
      "115605     84.63\n",
      "115606     84.63\n",
      "115607    209.06\n",
      "115608    115.45\n",
      "Name: payment_value, Length: 115609, dtype: float64\n"
     ]
    }
   ],
   "source": [
    "print(df['payment_value'])"
   ]
  },
  {
   "cell_type": "code",
   "execution_count": 35,
   "metadata": {},
   "outputs": [
    {
     "name": "stdout",
     "output_type": "stream",
     "text": [
      "0                    sao paulo\n",
      "3                    sao paulo\n",
      "4                    sao paulo\n",
      "5                florianopolis\n",
      "6         presidente venceslau\n",
      "                  ...         \n",
      "115604          belo horizonte\n",
      "115605                 diadema\n",
      "115606                 diadema\n",
      "115607          rolim de moura\n",
      "115608                brasilia\n",
      "Name: customer_city, Length: 98318, dtype: object\n"
     ]
    }
   ],
   "source": [
    "print(df['customer_city'])"
   ]
  },
  {
   "cell_type": "markdown",
   "metadata": {},
   "source": [
    "We are now finding the city which generates the highest revenue"
   ]
  },
  {
   "cell_type": "code",
   "execution_count": 30,
   "metadata": {},
   "outputs": [
    {
     "data": {
      "text/html": [
       "<div>\n",
       "<style scoped>\n",
       "    .dataframe tbody tr th:only-of-type {\n",
       "        vertical-align: middle;\n",
       "    }\n",
       "\n",
       "    .dataframe tbody tr th {\n",
       "        vertical-align: top;\n",
       "    }\n",
       "\n",
       "    .dataframe thead th {\n",
       "        text-align: right;\n",
       "    }\n",
       "</style>\n",
       "<table border=\"1\" class=\"dataframe\">\n",
       "  <thead>\n",
       "    <tr style=\"text-align: right;\">\n",
       "      <th></th>\n",
       "      <th>customer_city</th>\n",
       "      <th>payment_value</th>\n",
       "    </tr>\n",
       "  </thead>\n",
       "  <tbody>\n",
       "    <tr>\n",
       "      <th>0</th>\n",
       "      <td>abaetetuba</td>\n",
       "      <td>6237.78</td>\n",
       "    </tr>\n",
       "    <tr>\n",
       "      <th>1</th>\n",
       "      <td>abreu e lima</td>\n",
       "      <td>5044.97</td>\n",
       "    </tr>\n",
       "    <tr>\n",
       "      <th>2</th>\n",
       "      <td>abaete</td>\n",
       "      <td>1896.54</td>\n",
       "    </tr>\n",
       "    <tr>\n",
       "      <th>3</th>\n",
       "      <td>acarau</td>\n",
       "      <td>1366.46</td>\n",
       "    </tr>\n",
       "    <tr>\n",
       "      <th>4</th>\n",
       "      <td>acailandia</td>\n",
       "      <td>1233.48</td>\n",
       "    </tr>\n",
       "    <tr>\n",
       "      <th>5</th>\n",
       "      <td>acopiara</td>\n",
       "      <td>1050.43</td>\n",
       "    </tr>\n",
       "    <tr>\n",
       "      <th>6</th>\n",
       "      <td>abadiania</td>\n",
       "      <td>1025.52</td>\n",
       "    </tr>\n",
       "    <tr>\n",
       "      <th>7</th>\n",
       "      <td>abelardo luz</td>\n",
       "      <td>797.58</td>\n",
       "    </tr>\n",
       "    <tr>\n",
       "      <th>8</th>\n",
       "      <td>abrantes</td>\n",
       "      <td>761.36</td>\n",
       "    </tr>\n",
       "    <tr>\n",
       "      <th>9</th>\n",
       "      <td>abadia dos dourados</td>\n",
       "      <td>413.50</td>\n",
       "    </tr>\n",
       "    <tr>\n",
       "      <th>10</th>\n",
       "      <td>acari</td>\n",
       "      <td>412.43</td>\n",
       "    </tr>\n",
       "    <tr>\n",
       "      <th>11</th>\n",
       "      <td>abre campo</td>\n",
       "      <td>367.29</td>\n",
       "    </tr>\n",
       "    <tr>\n",
       "      <th>12</th>\n",
       "      <td>abaiara</td>\n",
       "      <td>332.15</td>\n",
       "    </tr>\n",
       "    <tr>\n",
       "      <th>13</th>\n",
       "      <td>abdon batista</td>\n",
       "      <td>313.40</td>\n",
       "    </tr>\n",
       "    <tr>\n",
       "      <th>14</th>\n",
       "      <td>acegua</td>\n",
       "      <td>282.39</td>\n",
       "    </tr>\n",
       "    <tr>\n",
       "      <th>15</th>\n",
       "      <td>abare</td>\n",
       "      <td>224.73</td>\n",
       "    </tr>\n",
       "    <tr>\n",
       "      <th>16</th>\n",
       "      <td>abatia</td>\n",
       "      <td>220.19</td>\n",
       "    </tr>\n",
       "    <tr>\n",
       "      <th>17</th>\n",
       "      <td>acaiaca</td>\n",
       "      <td>207.90</td>\n",
       "    </tr>\n",
       "    <tr>\n",
       "      <th>18</th>\n",
       "      <td>abaira</td>\n",
       "      <td>203.00</td>\n",
       "    </tr>\n",
       "    <tr>\n",
       "      <th>19</th>\n",
       "      <td>acajutiba</td>\n",
       "      <td>50.95</td>\n",
       "    </tr>\n",
       "  </tbody>\n",
       "</table>\n",
       "</div>"
      ],
      "text/plain": [
       "          customer_city  payment_value\n",
       "0            abaetetuba        6237.78\n",
       "1          abreu e lima        5044.97\n",
       "2                abaete        1896.54\n",
       "3                acarau        1366.46\n",
       "4            acailandia        1233.48\n",
       "5              acopiara        1050.43\n",
       "6             abadiania        1025.52\n",
       "7          abelardo luz         797.58\n",
       "8              abrantes         761.36\n",
       "9   abadia dos dourados         413.50\n",
       "10                acari         412.43\n",
       "11           abre campo         367.29\n",
       "12              abaiara         332.15\n",
       "13        abdon batista         313.40\n",
       "14               acegua         282.39\n",
       "15                abare         224.73\n",
       "16               abatia         220.19\n",
       "17              acaiaca         207.90\n",
       "18               abaira         203.00\n",
       "19            acajutiba          50.95"
      ]
     },
     "execution_count": 30,
     "metadata": {},
     "output_type": "execute_result"
    }
   ],
   "source": [
    "city_revenue = df.groupby('customer_city')['payment_value'].sum()\n",
    "\n",
    "top_cities= city_revenue.head(20).sort_values(ascending=False).reset_index()\n",
    "\n",
    "\n",
    "top_cities.columns = ['customer_city', 'payment_value']\n",
    "top_cities"
   ]
  },
  {
   "cell_type": "code",
   "execution_count": 31,
   "metadata": {},
   "outputs": [
    {
     "data": {
      "image/png": "[encoded data removed]",
      "text/plain": [
       "<Figure size 1000x600 with 1 Axes>"
      ]
     },
     "metadata": {},
     "output_type": "display_data"
    }
   ],
   "source": [
    "plt.figure(figsize=(10, 6))\n",
    "sns.barplot(\n",
    "    data=top_cities,\n",
    "    \n",
    "    y='customer_city', \n",
    "    x='payment_value', \n",
    "    palette='magma', \n",
    "    hue='customer_city', \n",
    "    dodge=False, \n",
    "    legend=False\n",
    ")\n",
    "plt.title('Top 10 Cities by Revenue', fontsize=16)\n",
    "plt.xlabel('Total Revenue', fontsize=14)\n",
    "plt.ylabel('City', fontsize=14)\n",
    "plt.show()"
   ]
  },
  {
   "cell_type": "code",
   "execution_count": 37,
   "metadata": {},
   "outputs": [
    {
     "data": {
      "text/html": [
       "<div>\n",
       "<style scoped>\n",
       "    .dataframe tbody tr th:only-of-type {\n",
       "        vertical-align: middle;\n",
       "    }\n",
       "\n",
       "    .dataframe tbody tr th {\n",
       "        vertical-align: top;\n",
       "    }\n",
       "\n",
       "    .dataframe thead th {\n",
       "        text-align: right;\n",
       "    }\n",
       "</style>\n",
       "<table border=\"1\" class=\"dataframe\">\n",
       "  <thead>\n",
       "    <tr style=\"text-align: right;\">\n",
       "      <th></th>\n",
       "      <th>product_category_name_english</th>\n",
       "      <th>total_payment_value</th>\n",
       "      <th>count</th>\n",
       "      <th>average_order_value</th>\n",
       "    </tr>\n",
       "  </thead>\n",
       "  <tbody>\n",
       "    <tr>\n",
       "      <th>14</th>\n",
       "      <td>computers</td>\n",
       "      <td>270046.41</td>\n",
       "      <td>217</td>\n",
       "      <td>1244.453502</td>\n",
       "    </tr>\n",
       "    <tr>\n",
       "      <th>34</th>\n",
       "      <td>fixed_telephony</td>\n",
       "      <td>206404.01</td>\n",
       "      <td>269</td>\n",
       "      <td>767.301152</td>\n",
       "    </tr>\n",
       "    <tr>\n",
       "      <th>64</th>\n",
       "      <td>small_appliances_home_oven_and_coffee</td>\n",
       "      <td>51229.32</td>\n",
       "      <td>78</td>\n",
       "      <td>656.786154</td>\n",
       "    </tr>\n",
       "    <tr>\n",
       "      <th>0</th>\n",
       "      <td>agro_industry_and_commerce</td>\n",
       "      <td>118730.61</td>\n",
       "      <td>252</td>\n",
       "      <td>471.153214</td>\n",
       "    </tr>\n",
       "    <tr>\n",
       "      <th>45</th>\n",
       "      <td>home_appliances_2</td>\n",
       "      <td>124423.64</td>\n",
       "      <td>268</td>\n",
       "      <td>464.267313</td>\n",
       "    </tr>\n",
       "    <tr>\n",
       "      <th>57</th>\n",
       "      <td>office_furniture</td>\n",
       "      <td>645927.93</td>\n",
       "      <td>1773</td>\n",
       "      <td>364.313553</td>\n",
       "    </tr>\n",
       "    <tr>\n",
       "      <th>62</th>\n",
       "      <td>signaling_and_security</td>\n",
       "      <td>68289.47</td>\n",
       "      <td>199</td>\n",
       "      <td>343.163166</td>\n",
       "    </tr>\n",
       "    <tr>\n",
       "      <th>19</th>\n",
       "      <td>construction_tools_safety</td>\n",
       "      <td>65646.80</td>\n",
       "      <td>198</td>\n",
       "      <td>331.549495</td>\n",
       "    </tr>\n",
       "    <tr>\n",
       "      <th>56</th>\n",
       "      <td>musical_instruments</td>\n",
       "      <td>230408.31</td>\n",
       "      <td>712</td>\n",
       "      <td>323.607177</td>\n",
       "    </tr>\n",
       "    <tr>\n",
       "      <th>63</th>\n",
       "      <td>small_appliances</td>\n",
       "      <td>224551.25</td>\n",
       "      <td>699</td>\n",
       "      <td>321.246423</td>\n",
       "    </tr>\n",
       "  </tbody>\n",
       "</table>\n",
       "</div>"
      ],
      "text/plain": [
       "            product_category_name_english  total_payment_value  count  \\\n",
       "14                              computers            270046.41    217   \n",
       "34                        fixed_telephony            206404.01    269   \n",
       "64  small_appliances_home_oven_and_coffee             51229.32     78   \n",
       "0              agro_industry_and_commerce            118730.61    252   \n",
       "45                      home_appliances_2            124423.64    268   \n",
       "57                       office_furniture            645927.93   1773   \n",
       "62                 signaling_and_security             68289.47    199   \n",
       "19              construction_tools_safety             65646.80    198   \n",
       "56                    musical_instruments            230408.31    712   \n",
       "63                       small_appliances            224551.25    699   \n",
       "\n",
       "    average_order_value  \n",
       "14          1244.453502  \n",
       "34           767.301152  \n",
       "64           656.786154  \n",
       "0            471.153214  \n",
       "45           464.267313  \n",
       "57           364.313553  \n",
       "62           343.163166  \n",
       "19           331.549495  \n",
       "56           323.607177  \n",
       "63           321.246423  "
      ]
     },
     "execution_count": 37,
     "metadata": {},
     "output_type": "execute_result"
    }
   ],
   "source": [
    "\n",
    "total_payment_value = df.groupby('product_category_name_english')['payment_value'].sum()\n",
    "\n",
    "\n",
    "category_counts = df['product_category_name_english'].value_counts()\n",
    "\n",
    "\n",
    "total_payment_value_df = total_payment_value.reset_index()\n",
    "total_payment_value_df.columns = ['product_category_name_english', 'total_payment_value']\n",
    "\n",
    "category_counts_df = category_counts.reset_index()\n",
    "category_counts_df.columns = ['product_category_name_english', 'count']\n",
    "\n",
    "# Merge the total payment value and count DataFrames\n",
    "merged_df = pd.merge(total_payment_value_df, category_counts_df, on='product_category_name_english')\n",
    "\n",
    "# Calculate the average order value\n",
    "merged_df['average_order_value'] = merged_df['total_payment_value'] / merged_df['count']\n",
    "merged_df.sort_values(by='average_order_value', ascending=False).head(10)"
   ]
  },
  {
   "cell_type": "markdown",
   "metadata": {},
   "source": [
    "The computers category has the highest AOV  (AVERAGE ORDER VALUE) which indicates customers are spending more on average in purchasing items from this category though from our previous analysis we discovered that bed_bath_table category is the most purchased category.\n",
    "This means customers purchase more bed_bath_table items, but spend more money on items from the computers category. More marketing resources need to be allocated to low AOV categories to drive more traffic and encourage higher spending through discount offers."
   ]
  },
  {
   "cell_type": "code",
   "execution_count": 36,
   "metadata": {},
   "outputs": [
    {
     "name": "stdout",
     "output_type": "stream",
     "text": [
      "['payment_sequential', 'payment_installments', 'payment_value', 'order_item_id', 'price', 'freight_value', 'product_weight_g', 'product_length_cm', 'product_height_cm', 'product_width_cm']\n"
     ]
    }
   ],
   "source": [
    "numeric_cols= ['payment_sequential', 'payment_installments', 'payment_value',\n",
    "       'order_item_id', 'price', 'freight_value', 'product_weight_g',\n",
    "       'product_length_cm', 'product_height_cm', 'product_width_cm']\n",
    "\n",
    "print(numeric_cols)"
   ]
  },
  {
   "cell_type": "code",
   "execution_count": null,
   "metadata": {},
   "outputs": [],
   "source": []
  },
  {
   "cell_type": "code",
   "execution_count": null,
   "metadata": {},
   "outputs": [],
   "source": []
  }
 ],
 "metadata": {
  "kernelspec": {
   "display_name": "myvenv",
   "language": "python",
   "name": "python3"
  },
  "language_info": {
   "codemirror_mode": {
    "name": "ipython",
    "version": 3
   },
   "file_extension": ".py",
   "mimetype": "text/x-python",
   "name": "python",
   "nbconvert_exporter": "python",
   "pygments_lexer": "ipython3",
   "version": "3.10.12"
  }
 },
 "nbformat": 4,
 "nbformat_minor": 2
}
